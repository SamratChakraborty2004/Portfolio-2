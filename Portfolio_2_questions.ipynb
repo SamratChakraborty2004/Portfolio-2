{
 "cells": [
  {
   "cell_type": "markdown",
   "id": "Z88FfJc9lA_T",
   "metadata": {
    "id": "Z88FfJc9lA_T"
   },
   "source": [
    "## Analysis of an E-commerce Dataset Part 2"
   ]
  },
  {
   "cell_type": "markdown",
   "id": "hoq0NwA9lA_V",
   "metadata": {
    "id": "hoq0NwA9lA_V"
   },
   "source": [
    "The goal of the second analysis task is to train linear regression models to predict users' ratings towards items. This involves a standard Data Science workflow: exploring data, building models, making predictions, and evaluating results. In this task, we will explore the impacts of feature selections and different sizes of training/testing data on the model performance. We will use another cleaned combined e-commerce sub-dataset that **is different from** the one in “Analysis of an E-commerce Dataset” task 1."
   ]
  },
  {
   "cell_type": "markdown",
   "id": "f9fd3NU_lA_W",
   "metadata": {
    "id": "f9fd3NU_lA_W"
   },
   "source": [
    "### Import Cleaned E-commerce Dataset\n",
    "The csv file named 'cleaned_ecommerce_dataset.csv' is provided. You may need to use the Pandas method, i.e., `read_csv`, for reading it. After that, please print out its total length."
   ]
  },
  {
   "cell_type": "code",
   "execution_count": 32,
   "id": "PJrb2gtAlA_W",
   "metadata": {
    "id": "PJrb2gtAlA_W"
   },
   "outputs": [
    {
     "name": "stdout",
     "output_type": "stream",
     "text": [
      "Total Length of the DataFrame: 2685\n"
     ]
    }
   ],
   "source": [
    "import pandas as pd\n",
    "df = pd.read_csv('cleaned_ecommerce_dataset.csv')\n",
    "\n",
    "total_length = len(df)\n",
    "print(\"Total Length of the DataFrame:\", total_length)\n"
   ]
  },
  {
   "cell_type": "markdown",
   "id": "aqbuU6rglA_X",
   "metadata": {
    "id": "aqbuU6rglA_X"
   },
   "source": [
    "### Explore the Dataset\n",
    "\n",
    "* Use the methods, i.e., `head()` and `info()`, to have a rough picture about the data, e.g., how many columns, and the data types of each column.\n",
    "* As our goal is to predict ratings given other columns, please get the correlations between helpfulness/gender/category/review and rating by using the `corr()` method.\n",
    "* To get the correlations between different features, you may need to first convert the categorical features (i.e., gender, category and review) into numerial values. For doing this, you may need to import `OrdinalEncoder` from `sklearn.preprocessing` (refer to the useful exmaples [here](https://pbpython.com/categorical-encoding.html))\n",
    "* Please provide ___necessary explanations/analysis___ on the correlations, and figure out which are the ___most___ and ___least___ corrleated features regarding rating. Try to ___discuss___ how the correlation will affect the final prediction results, if we use these features to train a regression model for rating prediction. In what follows, we will conduct experiments to verify your hypothesis."
   ]
  },
  {
   "cell_type": "code",
   "execution_count": 69,
   "id": "W3PImHiElA_X",
   "metadata": {
    "id": "W3PImHiElA_X"
   },
   "outputs": [],
   "source": [
    "import pandas as pd\n",
    "from sklearn.preprocessing import OrdinalEncoder\n",
    "\n",
    "df = pd.read_csv('cleaned_ecommerce_dataset.csv')"
   ]
  },
  {
   "cell_type": "code",
   "execution_count": 70,
   "id": "f741a0ee",
   "metadata": {},
   "outputs": [
    {
     "name": "stdout",
     "output_type": "stream",
     "text": [
      "First few rows of the dataset:\n",
      "   userId  timestamp                                           review  \\\n",
      "0    4081      71900                                Not always McCrap   \n",
      "1    4081      72000  I dropped the chalupa even before he told me to   \n",
      "2    4081      72000                     The Wonderful World of Wendy   \n",
      "3    4081     100399                             They actually did it   \n",
      "4    4081     100399                             Hey! Gimme some pie!   \n",
      "\n",
      "                                 item  rating  helpfulness gender  \\\n",
      "0                          McDonald's     4.0          3.0      M   \n",
      "1                           Taco Bell     1.0          4.0      M   \n",
      "2                             Wendy's     5.0          4.0      M   \n",
      "3  South Park: Bigger, Longer & Uncut     5.0          3.0      M   \n",
      "4                        American Pie     3.0          3.0      M   \n",
      "\n",
      "                category  item_id  item_price  user_city  \n",
      "0  Restaurants & Gourmet       41       30.74          4  \n",
      "1  Restaurants & Gourmet       74      108.30          4  \n",
      "2  Restaurants & Gourmet       84       69.00          4  \n",
      "3                 Movies       68      143.11          4  \n",
      "4                 Movies        6      117.89          4  \n"
     ]
    }
   ],
   "source": [
    "print(\"First few rows of the dataset:\")\n",
    "print(df.head())"
   ]
  },
  {
   "cell_type": "code",
   "execution_count": 71,
   "id": "4db9670c",
   "metadata": {},
   "outputs": [
    {
     "name": "stdout",
     "output_type": "stream",
     "text": [
      "\n",
      "Dataset information:\n",
      "<class 'pandas.core.frame.DataFrame'>\n",
      "RangeIndex: 2685 entries, 0 to 2684\n",
      "Data columns (total 11 columns):\n",
      " #   Column       Non-Null Count  Dtype  \n",
      "---  ------       --------------  -----  \n",
      " 0   userId       2685 non-null   int64  \n",
      " 1   timestamp    2685 non-null   int64  \n",
      " 2   review       2685 non-null   object \n",
      " 3   item         2685 non-null   object \n",
      " 4   rating       2685 non-null   float64\n",
      " 5   helpfulness  2685 non-null   float64\n",
      " 6   gender       2685 non-null   object \n",
      " 7   category     2685 non-null   object \n",
      " 8   item_id      2685 non-null   int64  \n",
      " 9   item_price   2685 non-null   float64\n",
      " 10  user_city    2685 non-null   int64  \n",
      "dtypes: float64(3), int64(4), object(4)\n",
      "memory usage: 230.9+ KB\n",
      "None\n"
     ]
    }
   ],
   "source": [
    "print(\"\\nDataset information:\")\n",
    "print(df.info())"
   ]
  },
  {
   "cell_type": "code",
   "execution_count": 72,
   "id": "d660c6e4",
   "metadata": {},
   "outputs": [],
   "source": [
    "encoder = OrdinalEncoder()\n",
    "df[['gender', 'category', 'review']] = encoder.fit_transform(df[['gender', 'category', 'review']])"
   ]
  },
  {
   "cell_type": "code",
   "execution_count": 73,
   "id": "2b626640",
   "metadata": {},
   "outputs": [
    {
     "name": "stderr",
     "output_type": "stream",
     "text": [
      "C:\\Users\\samra\\AppData\\Local\\Temp\\ipykernel_38660\\2227068431.py:1: FutureWarning: The default value of numeric_only in DataFrame.corr is deprecated. In a future version, it will default to False. Select only valid columns or specify the value of numeric_only to silence this warning.\n",
      "  correlations = df.corr()\n"
     ]
    }
   ],
   "source": [
    "correlations = df.corr()\n",
    "rating_correlations = correlations['rating']"
   ]
  },
  {
   "cell_type": "code",
   "execution_count": 74,
   "id": "1e195acd",
   "metadata": {},
   "outputs": [
    {
     "name": "stdout",
     "output_type": "stream",
     "text": [
      "\n",
      "Correlations with the rating:\n",
      "userId         0.032506\n",
      "timestamp      0.000369\n",
      "review        -0.036118\n",
      "rating         1.000000\n",
      "helpfulness   -0.007523\n",
      "gender        -0.034337\n",
      "category      -0.163158\n",
      "item_id        0.042890\n",
      "item_price     0.027374\n",
      "user_city     -0.028825\n",
      "Name: rating, dtype: float64\n"
     ]
    }
   ],
   "source": [
    "print(\"\\nCorrelations with the rating:\")\n",
    "print(rating_correlations)"
   ]
  },
  {
   "cell_type": "code",
   "execution_count": 75,
   "id": "86eff740",
   "metadata": {},
   "outputs": [
    {
     "name": "stdout",
     "output_type": "stream",
     "text": [
      "\n",
      "Most correlated feature with rating: rating\n",
      "Least correlated feature with rating: category\n"
     ]
    }
   ],
   "source": [
    "most_correlated_feature = rating_correlations.idxmax()\n",
    "least_correlated_feature = rating_correlations.idxmin()\n",
    "\n",
    "print(\"\\nMost correlated feature with rating:\", most_correlated_feature)\n",
    "print(\"Least correlated feature with rating:\", least_correlated_feature)"
   ]
  },
  {
   "cell_type": "markdown",
   "id": "d171b275",
   "metadata": {},
   "source": [
    "In correlation analysis, a positive correlation indicates that the rating goes up as a feature goes up, while a negative correlation exemplifies the opposite. Therefore, the most correlated feature (the one with the highest correlation) is predicted to have the most significant effect on rating predictions. The least correlated feature (the feature with the lowest correlation) is projected to have relatively little effect.\n",
    "\n",
    "For example, in a linear regression model, a feature with a high positive correlation to the rating is expected to significantly improve rating predictions as its values increase. A feature with a strong negative correlation is expected to significantly reduce predictions as its values rise. On the other hand, a feature with little or no correlation to the rating may have only a small effect on predictions because of its weak association to rating fluctuations.\n",
    "\n",
    "To test these hypotheses, you can build and train your own regression model (e.g., linear regression), use the dataset, and evaluate the importance of every feature. The higher the importance score, the more significant the effect on the predictions."
   ]
  },
  {
   "cell_type": "markdown",
   "id": "4myP5igslA_Y",
   "metadata": {
    "id": "4myP5igslA_Y"
   },
   "source": [
    "### Split Training and Testing Data\n",
    "* Machine learning models are trained to help make predictions for the future. Normally, we need to randomly split the dataset into training and testing sets, where we use the training set to train the model, and then leverage the well-trained model to make predictions on the testing set.\n",
    "* To further investigate whether the size of the training/testing data affects the model performance, please random split the data into training and testing sets with different sizes:\n",
    "    * Case 1: training data containing 10% of the entire data;\n",
    "    * Case 2: training data containing 90% of the entire data.\n",
    "* Print the shape of training and testing sets in the two cases."
   ]
  },
  {
   "cell_type": "code",
   "execution_count": 76,
   "id": "JIDMig9blA_Y",
   "metadata": {
    "id": "JIDMig9blA_Y"
   },
   "outputs": [],
   "source": [
    "from sklearn.model_selection import train_test_split\n",
    "\n",
    "train_case1, test_case1 = train_test_split(df, test_size=0.9, random_state=42)"
   ]
  },
  {
   "cell_type": "code",
   "execution_count": 77,
   "id": "e95054a1",
   "metadata": {},
   "outputs": [],
   "source": [
    "train_case2, test_case2 = train_test_split(df, test_size=0.1, random_state=42)"
   ]
  },
  {
   "cell_type": "code",
   "execution_count": 89,
   "id": "9b5f8b59",
   "metadata": {},
   "outputs": [
    {
     "name": "stdout",
     "output_type": "stream",
     "text": [
      "Case 1 - Training Data Shape: (268, 11)\n",
      "Case 1 - Testing Data Shape: (2417, 11)\n",
      "Case 2 - Training Data Shape: (2416, 11)\n",
      "Case 2 - Testing Data Shape: (269, 11)\n"
     ]
    }
   ],
   "source": [
    "print(\"Case 1 - Training Data Shape:\", train_case1.shape)\n",
    "print(\"Case 1 - Testing Data Shape:\", test_case1.shape)\n",
    "print(\"Case 2 - Training Data Shape:\", train_case2.shape)\n",
    "print(\"Case 2 - Testing Data Shape:\", test_case2.shape)"
   ]
  },
  {
   "cell_type": "markdown",
   "id": "DjSsgT0BlA_Y",
   "metadata": {
    "id": "DjSsgT0BlA_Y"
   },
   "source": [
    "### Train Linear Regression Models with Feature Selection under Cases 1 & 2\n",
    "* When training a machine learning model for prediction, we may need to select the most important/correlated input features for more accurate results.\n",
    "* To investigate whether feature selection affects the model performance, please select two most correlated features and two least correlated features regarding rating, respectively.\n",
    "* Train four linear regression models by following the conditions:\n",
    "    - (model-a) using the training/testing data in case 1 with two most correlated input features\n",
    "    - (model-b) using the training/testing data in case 1 with two least correlated input features\n",
    "    - (model-c) using the training/testing data in case 2 with two most correlated input features\n",
    "    - (model-d) using the training/testing data in case 2 with two least correlated input features\n",
    "* By doing this, we can verify the impacts of the size of traing/testing data on the model performance via comparing model-a and model-c (or model-b and model-d); meanwhile the impacts of feature selection can be validated via comparing model-a and model-b (or model-c and model-d).    "
   ]
  },
  {
   "cell_type": "code",
   "execution_count": 99,
   "id": "c14ef8b5",
   "metadata": {},
   "outputs": [],
   "source": [
    "import pandas as pd\n",
    "from sklearn.preprocessing import OrdinalEncoder\n",
    "from sklearn.model_selection import train_test_split\n",
    "from sklearn.linear_model import LinearRegression\n",
    "from sklearn.metrics import mean_squared_error\n",
    "\n"
   ]
  },
  {
   "cell_type": "code",
   "execution_count": 100,
   "id": "4b6d1f88",
   "metadata": {},
   "outputs": [],
   "source": [
    "df = pd.read_csv('cleaned_ecommerce_dataset.csv')\n",
    "\n",
    "encoder = OrdinalEncoder()\n",
    "df[['gender', 'category', 'review']] = encoder.fit_transform(df[['gender', 'category', 'review']])\n",
    "\n",
    "target_column = 'rating'\n",
    "input_features = [col for col in df.columns if col != target_column]"
   ]
  },
  {
   "cell_type": "code",
   "execution_count": 101,
   "id": "2723032b",
   "metadata": {},
   "outputs": [],
   "source": [
    "train_case1, test_case1 = train_test_split(df, test_size=0.9, random_state=42)\n",
    "\n",
    "train_case2, test_case2 = train_test_split(df, test_size=0.1, random_state=42)\n",
    "\n",
    "most_correlated_features = ['userId', 'item_id']\n",
    "least_correlated_features = ['gender', 'category']"
   ]
  },
  {
   "cell_type": "code",
   "execution_count": 140,
   "id": "a856b0e9",
   "metadata": {},
   "outputs": [],
   "source": [
    "def train_and_evaluate_model(train_data, test_data, features):\n",
    "    X_train = train_data[features]\n",
    "    y_train = train_data[target_column]\n",
    "    X_test = test_data[features]\n",
    "    y_test = test_data[target_column]\n",
    "\n",
    "    model = LinearRegression()\n",
    "    model.fit(X_train, y_train)\n",
    "\n",
    "    # Predictions\n",
    "    y_pred = model.predict(X_test)\n",
    "    mse = mean_squared_error(y_test, y_pred)\n",
    "    return mse"
   ]
  },
  {
   "cell_type": "code",
   "execution_count": 141,
   "id": "59743ed6",
   "metadata": {},
   "outputs": [],
   "source": [
    "mse_case1_model_a = train_and_evaluate_model(train_case1, test_case1, most_correlated_features)\n",
    "mse_case1_model_b = train_and_evaluate_model(train_case1, test_case1, least_correlated_features)\n",
    "mse_case2_model_c = train_and_evaluate_model(train_case2, test_case2, most_correlated_features)\n",
    "mse_case2_model_d = train_and_evaluate_model(train_case2, test_case2, least_correlated_features)\n"
   ]
  },
  {
   "cell_type": "code",
   "execution_count": 142,
   "id": "f8d3c5ae",
   "metadata": {},
   "outputs": [
    {
     "name": "stdout",
     "output_type": "stream",
     "text": [
      "MSE for Case 1 - Model A (Most Correlated Features): 1.8239709475945065\n",
      "MSE for Case 1 - Model B (Least Correlated Features): 1.8076399168603041\n",
      "MSE for Case 2 - Model C (Most Correlated Features): 1.7351102029789864\n",
      "MSE for Case 2 - Model D (Least Correlated Features): 1.6762330042324514\n"
     ]
    }
   ],
   "source": [
    "print(\"MSE for Case 1 - Model A (Most Correlated Features):\", mse_case1_model_a)\n",
    "print(\"MSE for Case 1 - Model B (Least Correlated Features):\", mse_case1_model_b)\n",
    "print(\"MSE for Case 2 - Model C (Most Correlated Features):\", mse_case2_model_c)\n",
    "print(\"MSE for Case 2 - Model D (Least Correlated Features):\", mse_case2_model_d)"
   ]
  },
  {
   "cell_type": "markdown",
   "id": "KATSn7hYlA_Z",
   "metadata": {
    "id": "KATSn7hYlA_Z"
   },
   "source": [
    "### Evaluate Models\n",
    "* Evaluate the performance of the four models with two metrics, including MSE and Root MSE\n",
    "* Print the results of the four models regarding the two metrics"
   ]
  },
  {
   "cell_type": "code",
   "execution_count": 143,
   "id": "17310251",
   "metadata": {},
   "outputs": [],
   "source": [
    "import pandas as pd\n",
    "from sklearn.preprocessing import OrdinalEncoder\n",
    "from sklearn.model_selection import train_test_split\n",
    "from sklearn.linear_model import LinearRegression\n",
    "from sklearn.metrics import mean_squared_error\n",
    "import numpy as np\n",
    "\n"
   ]
  },
  {
   "cell_type": "code",
   "execution_count": 144,
   "id": "fe9d5a3e",
   "metadata": {},
   "outputs": [],
   "source": [
    "df = pd.read_csv('cleaned_ecommerce_dataset.csv')\n",
    "\n",
    "encoder = OrdinalEncoder()\n",
    "df[['gender', 'category', 'review']] = encoder.fit_transform(df[['gender', 'category', 'review']])"
   ]
  },
  {
   "cell_type": "code",
   "execution_count": 145,
   "id": "d5ec7b8d",
   "metadata": {},
   "outputs": [],
   "source": [
    "target_column = 'rating'\n",
    "input_features = [col for col in df.columns if col != target_column]\n"
   ]
  },
  {
   "cell_type": "code",
   "execution_count": 146,
   "id": "29b96d87",
   "metadata": {},
   "outputs": [],
   "source": [
    "train_case1, test_case1 = train_test_split(df, test_size=0.9, random_state=42)\n",
    "train_case2, test_case2 = train_test_split(df, test_size=0.1, random_state=42)"
   ]
  },
  {
   "cell_type": "code",
   "execution_count": 147,
   "id": "7ddbc800",
   "metadata": {},
   "outputs": [],
   "source": [
    "most_correlated_features = ['userId', 'item_id']\n",
    "least_correlated_features = ['gender', 'category']"
   ]
  },
  {
   "cell_type": "code",
   "execution_count": 148,
   "id": "9e7ed354",
   "metadata": {},
   "outputs": [],
   "source": [
    "def train_and_evaluate_model(train_data, test_data, features):\n",
    "    X_train = train_data[features]\n",
    "    y_train = train_data[target_column]\n",
    "    X_test = test_data[features]\n",
    "    y_test = test_data[target_column]\n",
    "\n",
    "    model = LinearRegression()\n",
    "    model.fit(X_train, y_train)\n",
    "\n",
    "    # Make predictions\n",
    "    y_pred = model.predict(X_test)\n",
    "\n",
    "    mse = mean_squared_error(y_test, y_pred)\n",
    "\n",
    "    rmse = np.sqrt(mse)\n",
    "\n",
    "    return mse, rmse"
   ]
  },
  {
   "cell_type": "code",
   "execution_count": 149,
   "id": "4e990ad6",
   "metadata": {},
   "outputs": [],
   "source": [
    "mse_case1_model_a, rmse_case1_model_a = train_and_evaluate_model(train_case1, test_case1, most_correlated_features)\n",
    "mse_case1_model_b, rmse_case1_model_b = train_and_evaluate_model(train_case1, test_case1, least_correlated_features)\n",
    "mse_case2_model_c, rmse_case2_model_c = train_and_evaluate_model(train_case2, test_case2, most_correlated_features)\n",
    "mse_case2_model_d, rmse_case2_model_d = train_and_evaluate_model(train_case2, test_case2, least_correlated_features)\n"
   ]
  },
  {
   "cell_type": "code",
   "execution_count": 150,
   "id": "51230d8b",
   "metadata": {},
   "outputs": [
    {
     "name": "stdout",
     "output_type": "stream",
     "text": [
      "Case 1 - Model A (Most Correlated Features):\n",
      "MSE: 1.8239709475945065\n",
      "RMSE: 1.3505446855230323\n",
      "\n",
      "Case 1 - Model B (Least Correlated Features):\n",
      "MSE: 1.8076399168603041\n",
      "RMSE: 1.3444850006081526\n",
      "\n",
      "Case 2 - Model C (Most Correlated Features):\n",
      "MSE: 1.7351102029789864\n",
      "RMSE: 1.3172358190464555\n",
      "\n",
      "Case 2 - Model D (Least Correlated Features):\n",
      "MSE: 1.6762330042324514\n",
      "RMSE: 1.2946941740165712\n"
     ]
    }
   ],
   "source": [
    "print(\"Case 1 - Model A (Most Correlated Features):\")\n",
    "print(\"MSE:\", mse_case1_model_a)\n",
    "print(\"RMSE:\", rmse_case1_model_a)\n",
    "print(\"\\nCase 1 - Model B (Least Correlated Features):\")\n",
    "print(\"MSE:\", mse_case1_model_b)\n",
    "print(\"RMSE:\", rmse_case1_model_b)\n",
    "print(\"\\nCase 2 - Model C (Most Correlated Features):\")\n",
    "print(\"MSE:\", mse_case2_model_c)\n",
    "print(\"RMSE:\", rmse_case2_model_c)\n",
    "print(\"\\nCase 2 - Model D (Least Correlated Features):\")\n",
    "print(\"MSE:\", mse_case2_model_d)\n",
    "print(\"RMSE:\", rmse_case2_model_d)"
   ]
  },
  {
   "cell_type": "markdown",
   "id": "Y9jx-eY6lA_a",
   "metadata": {
    "id": "Y9jx-eY6lA_a"
   },
   "source": [
    "### Visualize, Compare and Analyze the Results\n",
    "* Visulize the results, and perform ___insightful analysis___ on the obtained results. For better visualization, you may need to carefully set the scale for the y-axis.\n",
    "* Normally, the model trained with most correlated features and more training data will get better results. Do you obtain the similar observations? If not, please ___explain the possible reasons___."
   ]
  },
  {
   "cell_type": "code",
   "execution_count": 151,
   "id": "e735ca72",
   "metadata": {},
   "outputs": [
    {
     "data": {
      "image/png": "[encoded data removed]",
      "text/plain": [
       "<Figure size 1200x600 with 2 Axes>"
      ]
     },
     "metadata": {},
     "output_type": "display_data"
    }
   ],
   "source": [
    "import matplotlib.pyplot as plt\n",
    "\n",
    "models = ['Model A (Most Correlated Features - Case 1)',\n",
    "          'Model B (Least Correlated Features - Case 1)',\n",
    "          'Model C (Most Correlated Features - Case 2)',\n",
    "          'Model D (Least Correlated Features - Case 2)']\n",
    "\n",
    "mse_values = [mse_case1_model_a, mse_case1_model_b, mse_case2_model_c, mse_case2_model_d]\n",
    "rmse_values = [rmse_case1_model_a, rmse_case1_model_b, rmse_case2_model_c, rmse_case2_model_d]\n",
    "\n",
    "plt.figure(figsize=(12, 6))\n",
    "plt.subplot(1, 2, 1)\n",
    "plt.bar(models, mse_values, color=['green', 'purple', 'blue', 'red'])\n",
    "plt.title('Mean Squared Error (MSE) Comparison')\n",
    "plt.xlabel('Models')\n",
    "plt.ylabel('MSE')\n",
    "plt.xticks(rotation=45)\n",
    "\n",
    "\n",
    "plt.subplot(1, 2, 2)\n",
    "plt.bar(models, rmse_values, color=['blue', 'red', 'green', 'purple'])\n",
    "plt.title('Root Mean Squared Error (RMSE) Comparison')\n",
    "plt.xlabel('Models')\n",
    "plt.ylabel('RMSE')\n",
    "plt.xticks(rotation=45)\n",
    "\n",
    "plt.tight_layout()\n",
    "plt.show()\n"
   ]
  },
  {
   "cell_type": "markdown",
   "id": "319e0b5d",
   "metadata": {},
   "source": [
    "Analysis:\n",
    "\n",
    "The bar plots elucidates the performance of each model of MSE and RMSE. As Lower the values of MSE and RMSE are it exemplifies better model performance. Model A and C uses the most correlated features with a smaller training dataset of 10% of the data. It works pretty well, but the smaller dataset might limit how much it can generalize. Models B and D both use the least correlated features, but have higher MSEs and RMs, meaning they don't do as well as Model A. These observations show that selecting appropriate features and having training data is essential for constructing high-quality regression models.However, other factors, such as the complexity of the model may also influence the performance of the model. Additional testing and optimization may result in improved results.\n"
   ]
  }
 ],
 "metadata": {
  "colab": {
   "provenance": []
  },
  "kernelspec": {
   "display_name": "Python 3 (ipykernel)",
   "language": "python",
   "name": "python3"
  },
  "language_info": {
   "codemirror_mode": {
    "name": "ipython",
    "version": 3
   },
   "file_extension": ".py",
   "mimetype": "text/x-python",
   "name": "python",
   "nbconvert_exporter": "python",
   "pygments_lexer": "ipython3",
   "version": "3.11.3"
  }
 },
 "nbformat": 4,
 "nbformat_minor": 5
}
